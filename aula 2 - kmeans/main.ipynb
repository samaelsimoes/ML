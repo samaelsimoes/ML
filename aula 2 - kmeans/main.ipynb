{
 "cells": [
  {
   "cell_type": "markdown",
   "metadata": {},
   "source": [
    "Scalable dataset"
   ]
  },
  {
   "cell_type": "code",
   "execution_count": 125,
   "metadata": {},
   "outputs": [],
   "source": [
    "import pandas_datareader.data as web\n",
    "from matplotlib import pyplot as plt\n",
    "import pandas as pd\n",
    "import numpy as np\n",
    "import datetime\n",
    "from sklearn.pipeline import make_pipeline\n",
    "from sklearn.cluster import KMeans\n",
    "from sklearn.preprocessing import Normalizer\n",
    "from sklearn.decomposition import PCA"
   ]
  },
  {
   "cell_type": "code",
   "execution_count": 153,
   "metadata": {},
   "outputs": [],
   "source": [
    "#extract\n",
    "sp500_url = 'https://datahub.io/core/s-and-p-500-companies/r/0.html'\n",
    "data_table = pd.read_html('https://en.wikipedia.org/wiki/List_of_S%26P_500_companies')\n",
    "tickers = data_table[0][0:10]['Symbol'].values\n",
    "source = 'yahoo'\n",
    "start_date = '2022-01-01'\n",
    "end_date = '2022-03-01'\n",
    "\n",
    "data = web.DataReader(tickers, source, start_date, end_date)"
   ]
  },
  {
   "cell_type": "code",
   "execution_count": 127,
   "metadata": {},
   "outputs": [],
   "source": [
    "#transform\n",
    "stock_close = np.array(data['Close']).T\n",
    "stock_open = np.array(data['Open']).T\n",
    "\n",
    "row, col = stock_close.shape\n",
    "\n",
    "stock_diff = np.zeros([row, col])\n",
    "\n",
    "for i in range(0, row):\n",
    "    stock_diff[i,:] = np.subtract(stock_close[i,:], stock_open[i,:])"
   ]
  },
  {
   "cell_type": "code",
   "execution_count": 128,
   "metadata": {},
   "outputs": [
    {
     "name": "stdout",
     "output_type": "stream",
     "text": [
      "   cluster empresa\n",
      "0        0     MMM\n",
      "1        0     AOS\n",
      "9        0     ADP\n",
      "3        1    ABBV\n",
      "7        1     ADM\n",
      "2        2     ABT\n",
      "4        2    ABMD\n",
      "5        2     ACN\n",
      "6        2    ATVI\n",
      "8        2    ADBE\n"
     ]
    }
   ],
   "source": [
    "#pipeline + model\n",
    "normalizer = Normalizer()\n",
    "kmeans = KMeans(n_clusters=3, max_iter=1000)\n",
    "\n",
    "pipeline = make_pipeline(normalizer,kmeans)\n",
    "pipeline.fit(stock_diff)\n",
    "\n",
    "cluster = pipeline.predict(stock_diff)\n",
    "\n",
    "df = pd.DataFrame({'cluster': cluster, 'stock': tickers})\n",
    "\n",
    "# display df sorted by cluster labels\n",
    "print(df.sort_values('cluster'))"
   ]
  },
  {
   "cell_type": "code",
   "execution_count": 150,
   "metadata": {},
   "outputs": [],
   "source": [
    "#reduced data\n",
    "reduced_data = PCA(n_components = 2).fit_transform(normalizer.fit_transform(stock_diff))\n",
    "kmeans = KMeans(n_clusters=3)\n",
    "kmeans.fit(reduced_data)\n",
    "labels = kmeans.predict(reduced_data)"
   ]
  },
  {
   "cell_type": "code",
   "execution_count": 151,
   "metadata": {},
   "outputs": [
    {
     "data": {
      "text/plain": [
       "<Figure size 432x288 with 0 Axes>"
      ]
     },
     "metadata": {},
     "output_type": "display_data"
    },
    {
     "data": {
      "image/png": "[encoded data removed]",
      "text/plain": [
       "<Figure size 720x720 with 1 Axes>"
      ]
     },
     "metadata": {
      "needs_background": "light"
     },
     "output_type": "display_data"
    }
   ],
   "source": [
    "#plot\n",
    "h = 0.01\n",
    "\n",
    "x_min, x_max = reduced_data[:, 0].min() - 1, reduced_data[:,0].max() + 1\n",
    "y_min, y_max = reduced_data[:, 1].min() - 1, reduced_data[:,1].max() + 1\n",
    "xx, yy = np.meshgrid(np.arange(x_min, x_max, h), np.arange(y_min, y_max, h))\n",
    "\n",
    "Z = kmeans.predict(np.c_[xx.ravel(), yy.ravel()])\n",
    "\n",
    "Z = Z.reshape(xx.shape)\n",
    "\n",
    "cmap = plt.cm.Paired\n",
    "\n",
    "plt.clf()\n",
    "plt.figure(figsize=(10,10))\n",
    "plt.imshow(Z, interpolation='nearest',\n",
    " extent = (xx.min(), xx.max(), yy.min(), yy.max()),\n",
    " cmap = cmap,\n",
    " aspect = 'auto', origin='lower')\n",
    "plt.plot(reduced_data[:, 0], reduced_data[:, 1], 'k.', markersize=5)\n",
    "\n",
    "\n",
    "centroids = kmeans.cluster_centers_\n",
    "plt.scatter(centroids[:, 0], centroids[:, 1],\n",
    " marker='x', s=169, linewidth=3,\n",
    " color='w', zorder=10)\n",
    "\n",
    "plt.title('K-Means Stock Market Application')\n",
    "plt.xlim(x_min, x_max)\n",
    "plt.ylim(y_min, y_max)\n",
    "plt.show()"
   ]
  }
 ],
 "metadata": {
  "kernelspec": {
   "display_name": "Python 3.10.6 64-bit",
   "language": "python",
   "name": "python3"
  },
  "language_info": {
   "codemirror_mode": {
    "name": "ipython",
    "version": 3
   },
   "file_extension": ".py",
   "mimetype": "text/x-python",
   "name": "python",
   "nbconvert_exporter": "python",
   "pygments_lexer": "ipython3",
   "version": "3.10.6"
  },
  "orig_nbformat": 4,
  "vscode": {
   "interpreter": {
    "hash": "00c3101e1489cc7b985dd579973095e8401208668771acef53d6cdccbf5d0b44"
   }
  }
 },
 "nbformat": 4,
 "nbformat_minor": 2
}
