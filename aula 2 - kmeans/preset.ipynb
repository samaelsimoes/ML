{
 "cells": [
  {
   "cell_type": "markdown",
   "metadata": {},
   "source": [
    "Dataset with preset stocks"
   ]
  },
  {
   "cell_type": "code",
   "execution_count": 6,
   "metadata": {},
   "outputs": [],
   "source": [
    "import pandas_datareader.data as web\n",
    "from matplotlib import pyplot as plt\n",
    "import pandas as pd\n",
    "import numpy as np\n",
    "import datetime\n",
    "from sklearn.pipeline import make_pipeline\n",
    "from sklearn.cluster import KMeans\n",
    "from sklearn.preprocessing import Normalizer\n",
    "from sklearn.decomposition import PCA"
   ]
  },
  {
   "cell_type": "code",
   "execution_count": 7,
   "metadata": {},
   "outputs": [],
   "source": [
    "companies_dict = {\n",
    " 'Amazon': 'AMZN',\n",
    " 'Apple': 'AAPL',\n",
    " 'Walgreen': 'WBA',\n",
    " 'Northrop Grumman': 'NOC',\n",
    " 'Boeing': 'BA',\n",
    " 'Lockheed Martin':'LMT',\n",
    " 'McDonalds': 'MCD',\n",
    " 'Intel': 'INTC',\n",
    " 'IBM': 'IBM',\n",
    " 'Texas Instruments': 'TXN',\n",
    " 'MasterCard': 'MA',\n",
    " 'Microsoft': 'MSFT',\n",
    " 'General Electric': 'GE',\n",
    " 'American Express': 'AXP',\n",
    " 'Pepsi': 'PEP',\n",
    " 'Coca Cola': 'KO',\n",
    " 'Johnson & Johnson': 'JNJ',\n",
    " 'Toyota': 'TM',\n",
    " 'Honda': 'HMC',\n",
    " 'Exxon': 'XOM',\n",
    " 'Chevron': 'CVX',\n",
    " 'Valero Energy': 'VLO',\n",
    " 'Ford': 'F',\n",
    " 'Bank of America': 'BAC'\n",
    "}\n",
    "\n",
    "companies = sorted(companies_dict.items(), key=lambda x: x[1])"
   ]
  },
  {
   "cell_type": "code",
   "execution_count": 8,
   "metadata": {},
   "outputs": [],
   "source": [
    "#extract\n",
    "source = 'yahoo'\n",
    "start_date = '2017-01-01'\n",
    "end_date = '2019-01-01'\n",
    "data = web.DataReader(list(companies_dict.values()), source, start_date, end_date)"
   ]
  },
  {
   "cell_type": "code",
   "execution_count": 9,
   "metadata": {},
   "outputs": [],
   "source": [
    "#transform\n",
    "stock_close = np.array(data['Close']).T\n",
    "stock_open = np.array(data['Open']).T\n",
    "\n",
    "row, col = stock_close.shape\n",
    "\n",
    "stock_diff = np.zeros([row, col])\n",
    "\n",
    "for i in range(0, row):\n",
    "    stock_diff[i,:] = np.subtract(stock_close[i,:], stock_open[i,:])"
   ]
  },
  {
   "cell_type": "code",
   "execution_count": 22,
   "metadata": {},
   "outputs": [
    {
     "name": "stdout",
     "output_type": "stream",
     "text": [
      "    cluster                   company\n",
      "23        0              (Exxon, XOM)\n",
      "18        0              (Pepsi, PEP)\n",
      "17        0   (Northrop Grumman, NOC)\n",
      "6         0                 (Ford, F)\n",
      "13        0    (Lockheed Martin, LMT)\n",
      "8         0              (Honda, HMC)\n",
      "22        0           (Walgreen, WBA)\n",
      "3         1              (Boeing, BA)\n",
      "4         1    (Bank of America, BAC)\n",
      "5         1            (Chevron, CVX)\n",
      "0         2             (Apple, AAPL)\n",
      "1         2            (Amazon, AMZN)\n",
      "10        2             (Intel, INTC)\n",
      "11        2  (Johnson & Johnson, JNJ)\n",
      "19        3              (Toyota, TM)\n",
      "20        3  (Texas Instruments, TXN)\n",
      "16        4         (Microsoft, MSFT)\n",
      "14        5          (MasterCard, MA)\n",
      "15        5          (McDonalds, MCD)\n",
      "2         6   (American Express, AXP)\n",
      "9         7                (IBM, IBM)\n",
      "7         7    (General Electric, GE)\n",
      "12        8           (Coca Cola, KO)\n",
      "21        9      (Valero Energy, VLO)\n"
     ]
    }
   ],
   "source": [
    "#pipeline + model\n",
    "normalizer = Normalizer()\n",
    "kmeans = KMeans(n_clusters=10, max_iter=1000)\n",
    "\n",
    "pipeline = make_pipeline(normalizer,kmeans)\n",
    "pipeline.fit(stock_diff)\n",
    "\n",
    "cluster = pipeline.predict(stock_diff)\n",
    "\n",
    "df = pd.DataFrame({'cluster': cluster, 'company': companies})\n",
    "\n",
    "# display df sorted by cluster labels\n",
    "print(df.sort_values('cluster'))"
   ]
  },
  {
   "cell_type": "code",
   "execution_count": 26,
   "metadata": {},
   "outputs": [
    {
     "name": "stdout",
     "output_type": "stream",
     "text": [
      "    cluster                 companies\n",
      "22        0           (Walgreen, WBA)\n",
      "12        0           (Coca Cola, KO)\n",
      "4         1    (Bank of America, BAC)\n",
      "7         1    (General Electric, GE)\n",
      "9         1                (IBM, IBM)\n",
      "14        2          (MasterCard, MA)\n",
      "15        2          (McDonalds, MCD)\n",
      "2         3   (American Express, AXP)\n",
      "8         3              (Honda, HMC)\n",
      "6         4                 (Ford, F)\n",
      "16        4         (Microsoft, MSFT)\n",
      "23        5              (Exxon, XOM)\n",
      "21        5      (Valero Energy, VLO)\n",
      "18        5              (Pepsi, PEP)\n",
      "17        5   (Northrop Grumman, NOC)\n",
      "13        5    (Lockheed Martin, LMT)\n",
      "0         6             (Apple, AAPL)\n",
      "1         6            (Amazon, AMZN)\n",
      "10        6             (Intel, INTC)\n",
      "11        6  (Johnson & Johnson, JNJ)\n",
      "19        7              (Toyota, TM)\n",
      "20        7  (Texas Instruments, TXN)\n",
      "5         8            (Chevron, CVX)\n",
      "3         8              (Boeing, BA)\n"
     ]
    }
   ],
   "source": [
    "#reduced data\n",
    "reduced_data = PCA(n_components = 2).fit_transform(normalizer.fit_transform(stock_diff))\n",
    "kmeans = KMeans(n_clusters=9)\n",
    "kmeans.fit(reduced_data)\n",
    "cluster = kmeans.predict(reduced_data)\n",
    "df = pd.DataFrame({'cluster': cluster, 'companies': companies})\n",
    "print(df.sort_values('cluster'))"
   ]
  },
  {
   "cell_type": "code",
   "execution_count": 17,
   "metadata": {},
   "outputs": [
    {
     "data": {
      "text/plain": [
       "<Figure size 432x288 with 0 Axes>"
      ]
     },
     "metadata": {},
     "output_type": "display_data"
    },
    {
     "data": {
      "image/png": "[encoded data removed]",
      "text/plain": [
       "<Figure size 720x720 with 1 Axes>"
      ]
     },
     "metadata": {
      "needs_background": "light"
     },
     "output_type": "display_data"
    }
   ],
   "source": [
    "#plot\n",
    "h = 0.01\n",
    "\n",
    "x_min, x_max = reduced_data[:, 0].min() - 1, reduced_data[:,0].max() + 1\n",
    "y_min, y_max = reduced_data[:, 1].min() - 1, reduced_data[:,1].max() + 1\n",
    "xx, yy = np.meshgrid(np.arange(x_min, x_max, h), np.arange(y_min, y_max, h))\n",
    "\n",
    "Z = kmeans.predict(np.c_[xx.ravel(), yy.ravel()])\n",
    "\n",
    "Z = Z.reshape(xx.shape)\n",
    "\n",
    "cmap = plt.cm.Paired\n",
    "\n",
    "plt.clf()\n",
    "plt.figure(figsize=(10,10))\n",
    "plt.imshow(Z, interpolation='nearest',\n",
    " extent = (xx.min(), xx.max(), yy.min(), yy.max()),\n",
    " cmap = cmap,\n",
    " aspect = 'auto', origin='lower')\n",
    "plt.plot(reduced_data[:, 0], reduced_data[:, 1], 'k.', markersize=5)\n",
    "\n",
    "\n",
    "centroids = kmeans.cluster_centers_\n",
    "plt.scatter(centroids[:, 0], centroids[:, 1],\n",
    " marker='x', s=169, linewidth=3,\n",
    " color='w', zorder=10)\n",
    "\n",
    "plt.title('K-Means Stock Market Application')\n",
    "plt.xlim(x_min, x_max)\n",
    "plt.ylim(y_min, y_max)\n",
    "plt.show()"
   ]
  }
 ],
 "metadata": {
  "kernelspec": {
   "display_name": "Python 3.10.6 64-bit",
   "language": "python",
   "name": "python3"
  },
  "language_info": {
   "codemirror_mode": {
    "name": "ipython",
    "version": 3
   },
   "file_extension": ".py",
   "mimetype": "text/x-python",
   "name": "python",
   "nbconvert_exporter": "python",
   "pygments_lexer": "ipython3",
   "version": "3.10.6"
  },
  "orig_nbformat": 4,
  "vscode": {
   "interpreter": {
    "hash": "00c3101e1489cc7b985dd579973095e8401208668771acef53d6cdccbf5d0b44"
   }
  }
 },
 "nbformat": 4,
 "nbformat_minor": 2
}
