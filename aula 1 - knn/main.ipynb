{
 "cells": [
  {
   "cell_type": "code",
   "execution_count": 4,
   "metadata": {},
   "outputs": [],
   "source": [
    "#imports\n",
    "import datetime\n",
    "import numpy as np\n",
    "import matplotlib.pyplot as plt\n",
    "import pandas_datareader.data as web\n",
    "from sklearn.neighbors import KNeighborsClassifier\n",
    "from sklearn.metrics import accuracy_score"
   ]
  },
  {
   "cell_type": "code",
   "execution_count": 5,
   "metadata": {},
   "outputs": [],
   "source": [
    "#load\n",
    "ticker = \"BTC-USD\"\n",
    "source = \"yahoo\"\n",
    "start = datetime.datetime(2020, 1, 1)\n",
    "end = datetime.datetime(2020, 10, 31)\n",
    "df = web.DataReader(ticker, source, start, end)"
   ]
  },
  {
   "cell_type": "code",
   "execution_count": 6,
   "metadata": {},
   "outputs": [],
   "source": [
    "#transform (change metrics)\n",
    "df = df[['Open', 'High', 'Low', 'Close']]\n",
    "df['Open-Close']= df.Open - df.Close\n",
    "df['High-Low'] = df.High - df.Low\n",
    "df = df.dropna()"
   ]
  },
  {
   "cell_type": "code",
   "execution_count": 7,
   "metadata": {},
   "outputs": [],
   "source": [
    "#variables\n",
    "predictor = df[['Open-Close', 'High-Low']]\n",
    "target = np.where(df['Close'].shift(-1)>df['Close'],1,-1)"
   ]
  },
  {
   "cell_type": "code",
   "execution_count": 8,
   "metadata": {},
   "outputs": [],
   "source": [
    "#split\n",
    "split = int(0.7*len(df)) \n",
    "train_predictor = predictor[:split]\n",
    "train_target = target[:split]\n",
    "test_predictor = predictor[split:]\n",
    "test_target = target[split:]"
   ]
  },
  {
   "cell_type": "code",
   "execution_count": 9,
   "metadata": {},
   "outputs": [
    {
     "name": "stdout",
     "output_type": "stream",
     "text": [
      "Training Accuracy: 60.28%\n",
      "Test Accuracy: 66.30%\n"
     ]
    }
   ],
   "source": [
    "#knn model\n",
    "knn = KNeighborsClassifier(n_neighbors=29)\n",
    "knn.fit(train_predictor, train_target)\n",
    "\n",
    "train_accuracy = accuracy_score(train_target, knn.predict(train_predictor)) * 100\n",
    "test_accuracy = accuracy_score(test_target, knn.predict(test_predictor)) * 100\n",
    "\n",
    "print('Training Accuracy: %.2f%%' %train_accuracy)\n",
    "print('Test Accuracy: %.2f%%' %test_accuracy)"
   ]
  }
 ],
 "metadata": {
  "kernelspec": {
   "display_name": "Python 3.10.6 64-bit",
   "language": "python",
   "name": "python3"
  },
  "language_info": {
   "codemirror_mode": {
    "name": "ipython",
    "version": 3
   },
   "file_extension": ".py",
   "mimetype": "text/x-python",
   "name": "python",
   "nbconvert_exporter": "python",
   "pygments_lexer": "ipython3",
   "version": "3.10.6"
  },
  "orig_nbformat": 4,
  "vscode": {
   "interpreter": {
    "hash": "00c3101e1489cc7b985dd579973095e8401208668771acef53d6cdccbf5d0b44"
   }
  }
 },
 "nbformat": 4,
 "nbformat_minor": 2
}
